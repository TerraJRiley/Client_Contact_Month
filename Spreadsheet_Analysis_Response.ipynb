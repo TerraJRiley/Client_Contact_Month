{
 "cells": [
  {
   "cell_type": "markdown",
   "metadata": {},
   "source": [
    "## Problem Statement/Goal\n",
    "The team wants to find the month they're likely to contact the most clients, so they can schedule a product upgrade announcement. Which month does the team tend to contact the greatest percentage of its clients?\n",
    "\n",
    "(In addition to providing an answer, please either include a public link to a spreadsheet showing your work, or describe your process for answering the question.)"
   ]
  },
  {
   "cell_type": "markdown",
   "metadata": {},
   "source": [
    "## Imports"
   ]
  },
  {
   "cell_type": "code",
   "execution_count": 3,
   "metadata": {},
   "outputs": [],
   "source": [
    "import pandas as pd\n",
    "import matplotlib.pyplot as plt\n",
    "import seaborn as sns\n",
    "import numpy as np\n",
    "%matplotlib inline"
   ]
  },
  {
   "cell_type": "markdown",
   "metadata": {},
   "source": [
    "## Data Collection"
   ]
  },
  {
   "cell_type": "code",
   "execution_count": 5,
   "metadata": {},
   "outputs": [],
   "source": [
    "df = pd.read_csv('./Data.csv')"
   ]
  },
  {
   "cell_type": "markdown",
   "metadata": {},
   "source": [
    "## Initial Viewing of Data"
   ]
  },
  {
   "cell_type": "code",
   "execution_count": 6,
   "metadata": {},
   "outputs": [
    {
     "data": {
      "text/html": [
       "<div>\n",
       "<style scoped>\n",
       "    .dataframe tbody tr th:only-of-type {\n",
       "        vertical-align: middle;\n",
       "    }\n",
       "\n",
       "    .dataframe tbody tr th {\n",
       "        vertical-align: top;\n",
       "    }\n",
       "\n",
       "    .dataframe thead th {\n",
       "        text-align: right;\n",
       "    }\n",
       "</style>\n",
       "<table border=\"1\" class=\"dataframe\">\n",
       "  <thead>\n",
       "    <tr style=\"text-align: right;\">\n",
       "      <th></th>\n",
       "      <th>Account manager</th>\n",
       "      <th>Client Name</th>\n",
       "      <th>Date of Contact</th>\n",
       "    </tr>\n",
       "  </thead>\n",
       "  <tbody>\n",
       "    <tr>\n",
       "      <th>0</th>\n",
       "      <td>Milan Crona</td>\n",
       "      <td>Wyman, Farrell and Haag</td>\n",
       "      <td>2015-10-31</td>\n",
       "    </tr>\n",
       "    <tr>\n",
       "      <th>1</th>\n",
       "      <td>Aidan Pouros</td>\n",
       "      <td>Veum, McClure and Schuster</td>\n",
       "      <td>2013-12-15</td>\n",
       "    </tr>\n",
       "    <tr>\n",
       "      <th>2</th>\n",
       "      <td>Aidan Pouros</td>\n",
       "      <td>Veum, McClure and Schuster</td>\n",
       "      <td>2013-12-07</td>\n",
       "    </tr>\n",
       "    <tr>\n",
       "      <th>3</th>\n",
       "      <td>Milan Crona</td>\n",
       "      <td>Armstrong Group</td>\n",
       "      <td>2013-11-02</td>\n",
       "    </tr>\n",
       "    <tr>\n",
       "      <th>4</th>\n",
       "      <td>Aidan Pouros</td>\n",
       "      <td>Lueilwitz, Moore and Hahn</td>\n",
       "      <td>2013-12-25</td>\n",
       "    </tr>\n",
       "  </tbody>\n",
       "</table>\n",
       "</div>"
      ],
      "text/plain": [
       "  Account manager                 Client Name Date of Contact\n",
       "0     Milan Crona     Wyman, Farrell and Haag      2015-10-31\n",
       "1    Aidan Pouros  Veum, McClure and Schuster      2013-12-15\n",
       "2    Aidan Pouros  Veum, McClure and Schuster      2013-12-07\n",
       "3     Milan Crona             Armstrong Group      2013-11-02\n",
       "4    Aidan Pouros   Lueilwitz, Moore and Hahn      2013-12-25"
      ]
     },
     "execution_count": 6,
     "metadata": {},
     "output_type": "execute_result"
    }
   ],
   "source": [
    "df.head()"
   ]
  },
  {
   "cell_type": "markdown",
   "metadata": {},
   "source": [
    "## Cleaning"
   ]
  },
  {
   "cell_type": "markdown",
   "metadata": {},
   "source": [
    "This code may lack finesse and could break if this data wasn't so clean, but it works for the purposes I have at the moment."
   ]
  },
  {
   "cell_type": "code",
   "execution_count": 31,
   "metadata": {},
   "outputs": [],
   "source": [
    "def map_function(row):\n",
    "    return row[0:4]\n",
    "df['year'] = df['Date of Contact'].map(lambda x: int(map_function(x)))"
   ]
  },
  {
   "cell_type": "code",
   "execution_count": 32,
   "metadata": {},
   "outputs": [],
   "source": [
    "def map_function(row):\n",
    "    return row[8:]\n",
    "df['day'] = df['Date of Contact'].map(lambda x: int(map_function(x)))"
   ]
  },
  {
   "cell_type": "code",
   "execution_count": 33,
   "metadata": {},
   "outputs": [],
   "source": [
    "def map_function(row):\n",
    "    return row[5:7]\n",
    "df['month'] = df['Date of Contact'].map(lambda x: int(map_function(x)))"
   ]
  },
  {
   "cell_type": "markdown",
   "metadata": {},
   "source": [
    "## Exploritory Data Analysis"
   ]
  },
  {
   "cell_type": "code",
   "execution_count": 7,
   "metadata": {},
   "outputs": [
    {
     "data": {
      "text/plain": [
       "10    213\n",
       "09    121\n",
       "08     79\n",
       "06     77\n",
       "12     77\n",
       "05     69\n",
       "07     66\n",
       "11     65\n",
       "02     64\n",
       "01     60\n",
       "03     58\n",
       "04     52\n",
       "Name: month, dtype: int64"
      ]
     },
     "execution_count": 7,
     "metadata": {},
     "output_type": "execute_result"
    }
   ],
   "source": [
    "df['month'].value_counts()\n",
    "# Given these results October is likely the best month to make contact with clients."
   ]
  },
  {
   "cell_type": "code",
   "execution_count": 65,
   "metadata": {},
   "outputs": [
    {
     "name": "stdout",
     "output_type": "stream",
     "text": [
      "Number of clients in Data: 35\n"
     ]
    }
   ],
   "source": [
    "print('Number of clients in Data:',len(df['Client Name'].unique()))"
   ]
  },
  {
   "cell_type": "code",
   "execution_count": 66,
   "metadata": {},
   "outputs": [
    {
     "name": "stdout",
     "output_type": "stream",
     "text": [
      "1 0.8571428571428571\n",
      "2 0.8857142857142857\n",
      "3 0.8285714285714286\n",
      "4 0.7428571428571429\n",
      "5 0.9428571428571428\n",
      "6 0.9714285714285714\n",
      "7 0.8\n",
      "8 0.9428571428571428\n",
      "9 0.9428571428571428\n",
      "10 1.0\n",
      "11 0.8571428571428571\n",
      "12 0.9142857142857143\n"
     ]
    }
   ],
   "source": [
    "for month in range(1,13):\n",
    "    mask = df['month'] == month\n",
    "    print(month, len(df[mask]['Client Name'].unique())/35)\n",
    "# Given the results of this code it seems like October is still the answer."
   ]
  },
  {
   "cell_type": "code",
   "execution_count": 64,
   "metadata": {},
   "outputs": [
    {
     "name": "stdout",
     "output_type": "stream",
     "text": [
      "-------\n",
      "2013\n",
      "1 0.0\n",
      "2 0.0\n",
      "3 0.0\n",
      "4 0.0\n",
      "5 0.0\n",
      "6 0.0\n",
      "7 0.0\n",
      "8 0.0\n",
      "9 0.0\n",
      "10 0.89\n",
      "11 0.34\n",
      "12 0.43\n",
      "-------\n",
      "2014\n",
      "1 0.26\n",
      "2 0.31\n",
      "3 0.31\n",
      "4 0.31\n",
      "5 0.34\n",
      "6 0.54\n",
      "7 0.43\n",
      "8 0.49\n",
      "9 0.66\n",
      "10 0.8\n",
      "11 0.43\n",
      "12 0.43\n",
      "-------\n",
      "2015\n",
      "1 0.4\n",
      "2 0.43\n",
      "3 0.34\n",
      "4 0.34\n",
      "5 0.46\n",
      "6 0.4\n",
      "7 0.43\n",
      "8 0.43\n",
      "9 0.51\n",
      "10 0.8\n",
      "11 0.29\n",
      "12 0.4\n",
      "-------\n",
      "2016\n",
      "1 0.43\n",
      "2 0.4\n",
      "3 0.43\n",
      "4 0.31\n",
      "5 0.4\n",
      "6 0.43\n",
      "7 0.31\n",
      "8 0.4\n",
      "9 0.54\n",
      "10 0.71\n",
      "11 0.34\n",
      "12 0.49\n",
      "-------\n",
      "2017\n",
      "1 0.34\n",
      "2 0.37\n",
      "3 0.29\n",
      "4 0.26\n",
      "5 0.37\n",
      "6 0.37\n",
      "7 0.31\n",
      "8 0.37\n",
      "9 0.6\n",
      "10 0.0\n",
      "11 0.0\n",
      "12 0.0\n"
     ]
    }
   ],
   "source": [
    "# However, I wasn't 100% confident in my answer yet, so I decided to break it down for each year.\n",
    "for year in range(2013, 2018):\n",
    "    print('-------')\n",
    "    print(year)\n",
    "    for month in range(1,13):\n",
    "        mask_y = df['year']  == year\n",
    "        df_y   = df[mask_y]\n",
    "        mask   = df_y['month'] == month# & df['year'] == year\n",
    "        clients_contacted = len(df_y[mask]['Client Name'].unique())\n",
    "        print(month, round(clients_contacted/35,2))"
   ]
  },
  {
   "cell_type": "markdown",
   "metadata": {},
   "source": [
    "Answer:\n",
    "    Even after breaking it down to each year, October remains the year which consistently received both the most and the highest percentage of contacts for each year.  As such the company should contact their clients in October."
   ]
  },
  {
   "cell_type": "markdown",
   "metadata": {},
   "source": [
    "# Laboritory!\n",
    " - The place for all the code and thoughts that I'm currently working on.  \n",
    " - This is to help keep the rest of the notebook clean."
   ]
  },
  {
   "cell_type": "markdown",
   "metadata": {},
   "source": [
    "Concern: The data starts on October and ends on a September.  There is the possibility that might be correlated to the answer and thus potentially a biased and false answer.\n",
    "\n",
    "OR it's that the company launched in October and they celebrate their company birthday every year and THAT is the thing that is correlated to the high client contact rate"
   ]
  },
  {
   "cell_type": "code",
   "execution_count": 49,
   "metadata": {},
   "outputs": [
    {
     "name": "stdout",
     "output_type": "stream",
     "text": [
      "----------\n",
      "2015\n",
      "1.0\n",
      "----------\n",
      "2013\n",
      "1.0\n",
      "----------\n",
      "2016\n",
      "1.0\n",
      "----------\n",
      "2014\n",
      "1.0\n",
      "----------\n",
      "2017\n",
      "1.0\n"
     ]
    }
   ],
   "source": [
    "# Percent of clients each year\n",
    "for year in years:\n",
    "    print('----------')\n",
    "    print(year)\n",
    "    mask = df['year'] == year\n",
    "    print(len(df[mask]['Client Name'].unique())/35)\n"
   ]
  }
 ],
 "metadata": {
  "kernelspec": {
   "display_name": "Python 3",
   "language": "python",
   "name": "python3"
  },
  "language_info": {
   "codemirror_mode": {
    "name": "ipython",
    "version": 3
   },
   "file_extension": ".py",
   "mimetype": "text/x-python",
   "name": "python",
   "nbconvert_exporter": "python",
   "pygments_lexer": "ipython3",
   "version": "3.7.0"
  }
 },
 "nbformat": 4,
 "nbformat_minor": 2
}
