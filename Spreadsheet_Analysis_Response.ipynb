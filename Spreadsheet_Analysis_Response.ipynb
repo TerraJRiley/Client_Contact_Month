{
 "cells": [
  {
   "cell_type": "markdown",
   "metadata": {},
   "source": [
    "## Problem Statement/Goal\n",
    "The team wants to find the month they're likely to contact the most clients, so they can schedule a product upgrade announcement. Which month does the team tend to contact the greatest percentage of its clients?\n",
    "\n",
    "(In addition to providing an answer, please either include a public link to a spreadsheet showing your work, or describe your process for answering the question.)"
   ]
  },
  {
   "cell_type": "markdown",
   "metadata": {},
   "source": [
    "## Imports"
   ]
  },
  {
   "cell_type": "code",
   "execution_count": 3,
   "metadata": {},
   "outputs": [],
   "source": [
    "import pandas as pd\n",
    "import matplotlib.pyplot as plt\n",
    "import seaborn as sns\n",
    "import numpy as np\n",
    "%matplotlib inline\n",
    "df = pd.read_csv('./Data.csv')\n",
    "sns.set(style=\"darkgrid\")\n"
   ]
  },
  {
   "cell_type": "markdown",
   "metadata": {},
   "source": [
    "## Initial Viewing of Data"
   ]
  },
  {
   "cell_type": "code",
   "execution_count": 6,
   "metadata": {},
   "outputs": [
    {
     "data": {
      "text/html": [
       "<div>\n",
       "<style scoped>\n",
       "    .dataframe tbody tr th:only-of-type {\n",
       "        vertical-align: middle;\n",
       "    }\n",
       "\n",
       "    .dataframe tbody tr th {\n",
       "        vertical-align: top;\n",
       "    }\n",
       "\n",
       "    .dataframe thead th {\n",
       "        text-align: right;\n",
       "    }\n",
       "</style>\n",
       "<table border=\"1\" class=\"dataframe\">\n",
       "  <thead>\n",
       "    <tr style=\"text-align: right;\">\n",
       "      <th></th>\n",
       "      <th>Account manager</th>\n",
       "      <th>Client Name</th>\n",
       "      <th>Date of Contact</th>\n",
       "    </tr>\n",
       "  </thead>\n",
       "  <tbody>\n",
       "    <tr>\n",
       "      <th>0</th>\n",
       "      <td>Milan Crona</td>\n",
       "      <td>Wyman, Farrell and Haag</td>\n",
       "      <td>2015-10-31</td>\n",
       "    </tr>\n",
       "    <tr>\n",
       "      <th>1</th>\n",
       "      <td>Aidan Pouros</td>\n",
       "      <td>Veum, McClure and Schuster</td>\n",
       "      <td>2013-12-15</td>\n",
       "    </tr>\n",
       "    <tr>\n",
       "      <th>2</th>\n",
       "      <td>Aidan Pouros</td>\n",
       "      <td>Veum, McClure and Schuster</td>\n",
       "      <td>2013-12-07</td>\n",
       "    </tr>\n",
       "    <tr>\n",
       "      <th>3</th>\n",
       "      <td>Milan Crona</td>\n",
       "      <td>Armstrong Group</td>\n",
       "      <td>2013-11-02</td>\n",
       "    </tr>\n",
       "    <tr>\n",
       "      <th>4</th>\n",
       "      <td>Aidan Pouros</td>\n",
       "      <td>Lueilwitz, Moore and Hahn</td>\n",
       "      <td>2013-12-25</td>\n",
       "    </tr>\n",
       "  </tbody>\n",
       "</table>\n",
       "</div>"
      ],
      "text/plain": [
       "  Account manager                 Client Name Date of Contact\n",
       "0     Milan Crona     Wyman, Farrell and Haag      2015-10-31\n",
       "1    Aidan Pouros  Veum, McClure and Schuster      2013-12-15\n",
       "2    Aidan Pouros  Veum, McClure and Schuster      2013-12-07\n",
       "3     Milan Crona             Armstrong Group      2013-11-02\n",
       "4    Aidan Pouros   Lueilwitz, Moore and Hahn      2013-12-25"
      ]
     },
     "execution_count": 6,
     "metadata": {},
     "output_type": "execute_result"
    }
   ],
   "source": [
    "df.head()"
   ]
  },
  {
   "cell_type": "markdown",
   "metadata": {},
   "source": [
    "## Cleaning"
   ]
  },
  {
   "cell_type": "markdown",
   "metadata": {},
   "source": [
    "This code may lack finesse and could break if this data wasn't so clean, but it works for the purposes I have at the moment."
   ]
  },
  {
   "cell_type": "code",
   "execution_count": 31,
   "metadata": {},
   "outputs": [],
   "source": [
    "def map_function(row):\n",
    "    return row[0:4]\n",
    "df['year'] = df['Date of Contact'].map(lambda x: int(map_function(x)))"
   ]
  },
  {
   "cell_type": "code",
   "execution_count": 32,
   "metadata": {},
   "outputs": [],
   "source": [
    "def map_function(row):\n",
    "    return row[8:]\n",
    "df['day'] = df['Date of Contact'].map(lambda x: int(map_function(x)))"
   ]
  },
  {
   "cell_type": "code",
   "execution_count": 33,
   "metadata": {},
   "outputs": [],
   "source": [
    "def map_function(row):\n",
    "    return row[5:7]\n",
    "df['month'] = df['Date of Contact'].map(lambda x: int(map_function(x)))"
   ]
  },
  {
   "cell_type": "code",
   "execution_count": 67,
   "metadata": {},
   "outputs": [
    {
     "data": {
      "text/html": [
       "<div>\n",
       "<style scoped>\n",
       "    .dataframe tbody tr th:only-of-type {\n",
       "        vertical-align: middle;\n",
       "    }\n",
       "\n",
       "    .dataframe tbody tr th {\n",
       "        vertical-align: top;\n",
       "    }\n",
       "\n",
       "    .dataframe thead th {\n",
       "        text-align: right;\n",
       "    }\n",
       "</style>\n",
       "<table border=\"1\" class=\"dataframe\">\n",
       "  <thead>\n",
       "    <tr style=\"text-align: right;\">\n",
       "      <th></th>\n",
       "      <th>Account manager</th>\n",
       "      <th>Client Name</th>\n",
       "      <th>Date of Contact</th>\n",
       "      <th>year</th>\n",
       "      <th>day</th>\n",
       "      <th>month</th>\n",
       "    </tr>\n",
       "  </thead>\n",
       "  <tbody>\n",
       "    <tr>\n",
       "      <th>0</th>\n",
       "      <td>Milan Crona</td>\n",
       "      <td>Wyman, Farrell and Haag</td>\n",
       "      <td>2015-10-31</td>\n",
       "      <td>2015</td>\n",
       "      <td>31</td>\n",
       "      <td>10</td>\n",
       "    </tr>\n",
       "    <tr>\n",
       "      <th>1</th>\n",
       "      <td>Aidan Pouros</td>\n",
       "      <td>Veum, McClure and Schuster</td>\n",
       "      <td>2013-12-15</td>\n",
       "      <td>2013</td>\n",
       "      <td>15</td>\n",
       "      <td>12</td>\n",
       "    </tr>\n",
       "    <tr>\n",
       "      <th>2</th>\n",
       "      <td>Aidan Pouros</td>\n",
       "      <td>Veum, McClure and Schuster</td>\n",
       "      <td>2013-12-07</td>\n",
       "      <td>2013</td>\n",
       "      <td>7</td>\n",
       "      <td>12</td>\n",
       "    </tr>\n",
       "    <tr>\n",
       "      <th>3</th>\n",
       "      <td>Milan Crona</td>\n",
       "      <td>Armstrong Group</td>\n",
       "      <td>2013-11-02</td>\n",
       "      <td>2013</td>\n",
       "      <td>2</td>\n",
       "      <td>11</td>\n",
       "    </tr>\n",
       "    <tr>\n",
       "      <th>4</th>\n",
       "      <td>Aidan Pouros</td>\n",
       "      <td>Lueilwitz, Moore and Hahn</td>\n",
       "      <td>2013-12-25</td>\n",
       "      <td>2013</td>\n",
       "      <td>25</td>\n",
       "      <td>12</td>\n",
       "    </tr>\n",
       "  </tbody>\n",
       "</table>\n",
       "</div>"
      ],
      "text/plain": [
       "  Account manager                 Client Name Date of Contact  year  day  \\\n",
       "0     Milan Crona     Wyman, Farrell and Haag      2015-10-31  2015   31   \n",
       "1    Aidan Pouros  Veum, McClure and Schuster      2013-12-15  2013   15   \n",
       "2    Aidan Pouros  Veum, McClure and Schuster      2013-12-07  2013    7   \n",
       "3     Milan Crona             Armstrong Group      2013-11-02  2013    2   \n",
       "4    Aidan Pouros   Lueilwitz, Moore and Hahn      2013-12-25  2013   25   \n",
       "\n",
       "   month  \n",
       "0     10  \n",
       "1     12  \n",
       "2     12  \n",
       "3     11  \n",
       "4     12  "
      ]
     },
     "execution_count": 67,
     "metadata": {},
     "output_type": "execute_result"
    }
   ],
   "source": [
    "df.head()"
   ]
  },
  {
   "cell_type": "markdown",
   "metadata": {},
   "source": [
    "## Exploritory Data Analysis"
   ]
  },
  {
   "cell_type": "code",
   "execution_count": 146,
   "metadata": {},
   "outputs": [
    {
     "name": "stdout",
     "output_type": "stream",
     "text": [
      "Given these results October is likely the best month to make contact with clients.\n"
     ]
    },
    {
     "data": {
      "image/png": "[encoded data removed]",
      "text/plain": [
       "<Figure size 432x288 with 1 Axes>"
      ]
     },
     "metadata": {},
     "output_type": "display_data"
    }
   ],
   "source": [
    "print('Given these results October is likely the best month to make contact with clients.')\n",
    "sns.countplot(x=\"month\", data=df);"
   ]
  },
  {
   "cell_type": "code",
   "execution_count": 65,
   "metadata": {},
   "outputs": [
    {
     "name": "stdout",
     "output_type": "stream",
     "text": [
      "Number of clients in Data: 35\n"
     ]
    }
   ],
   "source": [
    "print('Number of clients in Data:',len(df['Client Name'].unique()))"
   ]
  },
  {
   "cell_type": "code",
   "execution_count": 66,
   "metadata": {},
   "outputs": [
    {
     "name": "stdout",
     "output_type": "stream",
     "text": [
      "1 0.8571428571428571\n",
      "2 0.8857142857142857\n",
      "3 0.8285714285714286\n",
      "4 0.7428571428571429\n",
      "5 0.9428571428571428\n",
      "6 0.9714285714285714\n",
      "7 0.8\n",
      "8 0.9428571428571428\n",
      "9 0.9428571428571428\n",
      "10 1.0\n",
      "11 0.8571428571428571\n",
      "12 0.9142857142857143\n"
     ]
    }
   ],
   "source": [
    "for month in range(1,13):\n",
    "    mask = df['month'] == month\n",
    "    print(month, len(df[mask]['Client Name'].unique())/35)\n",
    "# Given the results of this code it seems like October is still the answer."
   ]
  },
  {
   "cell_type": "code",
   "execution_count": 125,
   "metadata": {},
   "outputs": [
    {
     "data": {
      "image/png": "[encoded data removed]",
      "text/plain": [
       "<Figure size 1080x360 with 2 Axes>"
      ]
     },
     "metadata": {},
     "output_type": "display_data"
    }
   ],
   "source": [
    "# However, I wasn't 100% confident in my answer yet, so I decided to break it down for each year.\n",
    "list_for_df = []\n",
    "for year in range(2013, 2018):\n",
    "    year_dict = {}\n",
    "    for month in range(1,13):\n",
    "        mask_y = df['year']  == year\n",
    "        df_y   = df[mask_y]\n",
    "        mask   = df_y['month'] == month# & df['year'] == year\n",
    "        clients_contacted = len(df_y[mask]['Client Name'].unique())\n",
    "        year_dict[month] = round(clients_contacted/35,2)\n",
    "    list_for_df.append(year_dict)\n",
    "    \n",
    "fig, ax = plt.subplots(figsize=(15,5))\n",
    "sns.heatmap(pd.DataFrame(list_for_df, index = range(2013, 2018)), annot=True, vmax = 1);\n"
   ]
  },
  {
   "cell_type": "markdown",
   "metadata": {},
   "source": [
    "## Answer:\n",
    "Even after breaking it down to each year, October remains the year which consistently received both the most and the highest percentage of contacts for each year.  As such the company should contact their clients in October."
   ]
  },
  {
   "cell_type": "markdown",
   "metadata": {},
   "source": [
    "# Other Insights & Analysis"
   ]
  },
  {
   "cell_type": "code",
   "execution_count": 152,
   "metadata": {},
   "outputs": [
    {
     "name": "stdout",
     "output_type": "stream",
     "text": [
      "While all of the managers are performing well, Milean Crona is currently in the lead for contacting the most clients\n"
     ]
    },
    {
     "data": {
      "image/png": "[encoded data removed]",
      "text/plain": [
       "<Figure size 432x288 with 1 Axes>"
      ]
     },
     "metadata": {},
     "output_type": "display_data"
    }
   ],
   "source": [
    "print('While all of the managers are performing well, Milean Crona is currently in the lead for contacting the most clients')\n",
    "sns.countplot(x=\"Account manager\", data=df);"
   ]
  },
  {
   "cell_type": "code",
   "execution_count": 155,
   "metadata": {},
   "outputs": [
    {
     "name": "stdout",
     "output_type": "stream",
     "text": [
      "Milan Crona        286\n",
      "Chauncey Dach      253\n",
      "Aidan Pouros       240\n",
      "Rigoberto White    222\n",
      "Name: Account manager, dtype: int64\n"
     ]
    }
   ],
   "source": [
    "# Incase you're wondering about the exact numeric counts, they are as follows:\n",
    "df['Account manager'].value_counts()"
   ]
  },
  {
   "cell_type": "code",
   "execution_count": 153,
   "metadata": {},
   "outputs": [
    {
     "data": {
      "image/png": "[encoded data removed]",
      "text/plain": [
       "<Figure size 432x288 with 1 Axes>"
      ]
     },
     "metadata": {},
     "output_type": "display_data"
    }
   ],
   "source": [
    "# Counts of contact per year.\n",
    "# It must be noted that the data starts on October 2013 and ends November 2017.\n",
    "# This is why those two years are so much less underperforming in this graph.\n",
    "sns.countplot(x=\"year\", data=df);"
   ]
  },
  {
   "cell_type": "code",
   "execution_count": 156,
   "metadata": {
    "scrolled": true
   },
   "outputs": [
    {
     "data": {
      "image/png": "[encoded data removed]",
      "text/plain": [
       "<Figure size 1080x360 with 1 Axes>"
      ]
     },
     "metadata": {},
     "output_type": "display_data"
    }
   ],
   "source": [
    "# Incase one wondered how the breakdown of contacts happened per day of the month, here you go!\n",
    "fig, ax = plt.subplots(figsize=(15,5))\n",
    "sns.countplot(x=\"day\", data=df);"
   ]
  },
  {
   "cell_type": "markdown",
   "metadata": {},
   "source": [
    "### Some final thoughts\n",
    "Concern: The data starts on October and ends on a September.  There is the possibility that might be correlated to the answer and thus potentially a biased and false answer.\n",
    "\n",
    "OR it's that the company launched in October and they celebrate their company birthday every year and THAT is the thing that is correlated to the high client contact rate.\n",
    "\n",
    "After thinking about this issue further I've decided that if there is an error, then I am unlikely to have enough information at the current moment.  If I were working at this company I would contact those with more information about the CRM system and potentially the managers themselves to see if I can rule out the possibility that the data is skewed in such a way to give a false answer."
   ]
  },
  {
   "cell_type": "markdown",
   "metadata": {},
   "source": [
    "# Laboritory!\n",
    " - The place for all the code and thoughts that I'm currently working on.  \n",
    " - This is to help keep the rest of the notebook clean."
   ]
  },
  {
   "cell_type": "code",
   "execution_count": 137,
   "metadata": {
    "scrolled": true
   },
   "outputs": [
    {
     "name": "stdout",
     "output_type": "stream",
     "text": [
      "{'Milan Crona', 'Chauncey Dach', 'Rigoberto White', 'Aidan Pouros'}\n",
      "{'Milan Crona', 'Chauncey Dach', 'Rigoberto White', 'Aidan Pouros'}\n",
      "{'Milan Crona', 'Chauncey Dach', 'Rigoberto White', 'Aidan Pouros'}\n",
      "{'Milan Crona', 'Chauncey Dach', 'Rigoberto White', 'Aidan Pouros'}\n",
      "{'Milan Crona', 'Chauncey Dach', 'Rigoberto White', 'Aidan Pouros'}\n"
     ]
    }
   ],
   "source": [
    "# This was just a quick check to see if they've all been working \n",
    "# during each year and barring a late start in 2013 or early leave \n",
    "# in 2017 they all seem to have worked about the same time.\n",
    "for year in range(2013, 2018):\n",
    "    mask = df['year'] == year\n",
    "    print(set([i for i in df[mask]['Account manager'].unique()]))"
   ]
  },
  {
   "cell_type": "markdown",
   "metadata": {},
   "source": [
    "## Code Recycling Bin\n",
    "- For when I'm not 100% sure that I want to delete some code, but I also want it out of the way."
   ]
  },
  {
   "cell_type": "code",
   "execution_count": 49,
   "metadata": {},
   "outputs": [
    {
     "name": "stdout",
     "output_type": "stream",
     "text": [
      "----------\n",
      "2015\n",
      "1.0\n",
      "----------\n",
      "2013\n",
      "1.0\n",
      "----------\n",
      "2016\n",
      "1.0\n",
      "----------\n",
      "2014\n",
      "1.0\n",
      "----------\n",
      "2017\n",
      "1.0\n"
     ]
    }
   ],
   "source": [
    "# Percent of clients each year\n",
    "for year in years:\n",
    "    print('----------')\n",
    "    print(year)\n",
    "    mask = df['year'] == year\n",
    "    print(len(df[mask]['Client Name'].unique())/35)\n",
    "# This shows that all clients were contacted each year that's on reccord."
   ]
  },
  {
   "cell_type": "code",
   "execution_count": 7,
   "metadata": {},
   "outputs": [
    {
     "data": {
      "text/plain": [
       "10    213\n",
       "09    121\n",
       "08     79\n",
       "06     77\n",
       "12     77\n",
       "05     69\n",
       "07     66\n",
       "11     65\n",
       "02     64\n",
       "01     60\n",
       "03     58\n",
       "04     52\n",
       "Name: month, dtype: int64"
      ]
     },
     "execution_count": 7,
     "metadata": {},
     "output_type": "execute_result"
    }
   ],
   "source": [
    "df['month'].value_counts()\n",
    "# Original code to see which was the best performing month w/o percentages"
   ]
  },
  {
   "cell_type": "code",
   "execution_count": 140,
   "metadata": {},
   "outputs": [
    {
     "data": {
      "image/png": "[encoded data removed]",
      "text/plain": [
       "<Figure size 1080x360 with 1 Axes>"
      ]
     },
     "metadata": {},
     "output_type": "display_data"
    }
   ],
   "source": [
    "# At this current time it would not be a good use of \n",
    "# my energy/time to clean up this chart, but I will be leaving it in.\n",
    "fig, ax = plt.subplots(figsize=(15,5))\n",
    "sns.countplot(x=\"Client Name\", data=df);"
   ]
  },
  {
   "cell_type": "markdown",
   "metadata": {},
   "source": [
    "Below is the original code I used to make sure that October wasn't just a one time thing and that it was indeed yearly achieving more contacts than the other months.  I've kept it here, but commented out the print statements.  Incase anybody wants to see that."
   ]
  },
  {
   "cell_type": "code",
   "execution_count": 139,
   "metadata": {},
   "outputs": [],
   "source": [
    "# However, I wasn't 100% confident in my answer yet, so I decided to break it down for each year.\n",
    "for year in range(2013, 2018):\n",
    "    #print('-------')\n",
    "    #print(year)\n",
    "    for month in range(1,13):\n",
    "        mask_y = df['year']  == year\n",
    "        df_y   = df[mask_y]\n",
    "        mask   = df_y['month'] == month# & df['year'] == year\n",
    "        clients_contacted = len(df_y[mask]['Client Name'].unique())\n",
    "        #print(month, round(clients_contacted/35,2))"
   ]
  },
  {
   "cell_type": "code",
   "execution_count": null,
   "metadata": {},
   "outputs": [],
   "source": []
  }
 ],
 "metadata": {
  "kernelspec": {
   "display_name": "Python 3",
   "language": "python",
   "name": "python3"
  },
  "language_info": {
   "codemirror_mode": {
    "name": "ipython",
    "version": 3
   },
   "file_extension": ".py",
   "mimetype": "text/x-python",
   "name": "python",
   "nbconvert_exporter": "python",
   "pygments_lexer": "ipython3",
   "version": "3.7.0"
  }
 },
 "nbformat": 4,
 "nbformat_minor": 2
}
